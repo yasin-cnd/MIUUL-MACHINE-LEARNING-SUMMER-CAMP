{
 "cells": [
  {
   "cell_type": "markdown",
   "id": "fcf87985",
   "metadata": {},
   "source": [
    "Görev 1: Verilen değerlerin veri yapılarını inceleyiniz."
   ]
  },
  {
   "cell_type": "markdown",
   "id": "20770444",
   "metadata": {},
   "source": [
    "Type() metodunu kullanınız."
   ]
  },
  {
   "cell_type": "code",
   "execution_count": 2,
   "id": "d35ebbb4",
   "metadata": {},
   "outputs": [
    {
     "name": "stdout",
     "output_type": "stream",
     "text": [
      "8 değişkeni int tipindedir.\n",
      "3.2 değişkeni float tipindedir.\n",
      "(18+8j) değişkeni complex tipindedir.\n",
      "Hello World değişkeni str tipindedir.\n",
      "True değişkeni bool tipindedir.\n",
      "True değişkeni bool tipindedir.\n",
      "[1, 2, 3, 4] değişkeni list tipindedir.\n",
      "{'Name': 'Jake', 'Age': 27, 'Adress': 'Downtown'} değişkeni dict tipindedir.\n",
      "('Machine Learning', 'Data Science') değişkeni tuple tipindedir.\n",
      "{'Python ', 'Machine Learning', 'Data Science'} değişkeni set tipindedir.\n"
     ]
    }
   ],
   "source": [
    "x = 8\n",
    "y = 3.2\n",
    "z = 8j + 18\n",
    "a = \"Hello World\"\n",
    "b = True\n",
    "c = 22<23\n",
    "l = [1,2,3,4]\n",
    "d = {\"Name\" : \"Jake\",\n",
    "  \"Age\" : 27,\n",
    "  \"Adress\" : \"Downtown\"} \n",
    "t = (\"Machine Learning\", \"Data Science\")\n",
    "s = {\"Python \", \"Machine Learning\", \"Data Science\"}\n",
    "\n",
    "variables = [x,y,z,a,b,c,l,d,t,s]\n",
    "\n",
    "for var in variables:\n",
    "    var_type = type(var).__name__\n",
    "    print(f\"{var} değişkeni {var_type} tipindedir.\")"
   ]
  },
  {
   "cell_type": "markdown",
   "id": "76389854",
   "metadata": {},
   "source": [
    "."
   ]
  },
  {
   "cell_type": "markdown",
   "id": "9d5bc7c8",
   "metadata": {},
   "source": [
    "Görev 2: Verilen string ifadenin tüm harflerini büyük harfe çeviriniz. Virgül ve nokta yerine space koyunuz, \n",
    "kelime kelime ayırınız."
   ]
  },
  {
   "cell_type": "markdown",
   "id": "fb1cc73f",
   "metadata": {},
   "source": [
    "String metodlarını kullanınız."
   ]
  },
  {
   "cell_type": "code",
   "execution_count": 3,
   "id": "57652600",
   "metadata": {},
   "outputs": [
    {
     "data": {
      "text/plain": [
       "['THE',\n",
       " 'GOAL',\n",
       " 'IS',\n",
       " 'TO',\n",
       " 'TURN',\n",
       " 'DATA',\n",
       " 'INTO',\n",
       " 'INFORMATION',\n",
       " 'AND',\n",
       " 'INFORMATION',\n",
       " 'INTO',\n",
       " 'INSIGHT']"
      ]
     },
     "execution_count": 3,
     "metadata": {},
     "output_type": "execute_result"
    }
   ],
   "source": [
    "text = \"The goal is to turn data into information, and information into insight.\"\n",
    "text.upper().replace(',', ' ').replace('.', ' ').split()"
   ]
  },
  {
   "cell_type": "markdown",
   "id": "d691c69f",
   "metadata": {},
   "source": [
    "."
   ]
  },
  {
   "cell_type": "markdown",
   "id": "350d3abb",
   "metadata": {},
   "source": [
    "Görev 3: Verilen listeye aşağıdaki adımları uygulayınız."
   ]
  },
  {
   "cell_type": "code",
   "execution_count": 4,
   "id": "b2e9452f",
   "metadata": {},
   "outputs": [],
   "source": [
    "lst = [\"D\",\"A\",\"T\",\"A\",\"S\",\"C\",\"I\",\"E\",\"N\",\"C\",\"E\"]"
   ]
  },
  {
   "cell_type": "markdown",
   "id": "b173fe46",
   "metadata": {},
   "source": [
    "Adım 1: Verilen listenin eleman sayısına bakınız.\n",
    "\n",
    "Adım 2: Sıfırıncı ve onuncu indeksteki elemanları çağırınız.\n",
    "\n",
    "Adım 3: Verilen liste üzerinden [\"D\", \"A\", \"T\", \"A\"] listesi oluşturunuz.\n",
    "\n",
    "Adım 4: Sekizinci indeksteki elemanı siliniz.\n",
    "\n",
    "Adım 5: Yeni bir eleman ekleyiniz.\n",
    "\n",
    "Adım 6: Sekizinci indekse \"N\" elemanını tekrar ekleyiniz.\n"
   ]
  },
  {
   "cell_type": "markdown",
   "id": "45fef56b",
   "metadata": {},
   "source": [
    "Adım 1: Verilen listenin eleman sayısına bakınız."
   ]
  },
  {
   "cell_type": "code",
   "execution_count": 5,
   "id": "1f329f19",
   "metadata": {},
   "outputs": [
    {
     "data": {
      "text/plain": [
       "11"
      ]
     },
     "execution_count": 5,
     "metadata": {},
     "output_type": "execute_result"
    }
   ],
   "source": [
    "len(lst)"
   ]
  },
  {
   "cell_type": "markdown",
   "id": "f4248ffb",
   "metadata": {},
   "source": [
    "Adım 2: Sıfırıncı ve onuncu indeksteki elemanları çağırınız."
   ]
  },
  {
   "cell_type": "code",
   "execution_count": 6,
   "id": "f014ac47",
   "metadata": {},
   "outputs": [
    {
     "name": "stdout",
     "output_type": "stream",
     "text": [
      "Sıfırıncı İndeks: D\n",
      "Onuncu İndeks: E\n"
     ]
    }
   ],
   "source": [
    "sifirinci_indeks = lst[0]\n",
    "onuncu_indeks = lst[10]\n",
    "print(\"Sıfırıncı İndeks:\", sifirinci_indeks)\n",
    "print(\"Onuncu İndeks:\", onuncu_indeks)"
   ]
  },
  {
   "cell_type": "markdown",
   "id": "430bfda3",
   "metadata": {},
   "source": [
    "Adım 3: Verilen liste üzerinden [\"D\", \"A\", \"T\", \"A\"] listesi oluşturunuz."
   ]
  },
  {
   "cell_type": "code",
   "execution_count": 7,
   "id": "9b6f284a",
   "metadata": {},
   "outputs": [
    {
     "name": "stdout",
     "output_type": "stream",
     "text": [
      "Yeni Liste: ['D', 'A', 'T', 'A']\n"
     ]
    }
   ],
   "source": [
    "yeni_list = lst[0:4]\n",
    "print(\"Yeni Liste:\", yeni_list)"
   ]
  },
  {
   "cell_type": "markdown",
   "id": "fe468846",
   "metadata": {},
   "source": [
    "Adım 4: Sekizinci indeksteki elemanı siliniz."
   ]
  },
  {
   "cell_type": "code",
   "execution_count": 8,
   "id": "562bbbb7",
   "metadata": {},
   "outputs": [
    {
     "name": "stdout",
     "output_type": "stream",
     "text": [
      "Güncellenmiş Liste: ['D', 'A', 'T', 'A', 'S', 'C', 'I', 'E', 'C', 'E']\n"
     ]
    }
   ],
   "source": [
    "lst.pop(8)\n",
    "print(\"Güncellenmiş Liste:\", lst)"
   ]
  },
  {
   "cell_type": "markdown",
   "id": "a4cf0712",
   "metadata": {},
   "source": [
    "Adım 5: Yeni bir eleman ekleyiniz."
   ]
  },
  {
   "cell_type": "code",
   "execution_count": 9,
   "id": "c487e6e1",
   "metadata": {},
   "outputs": [
    {
     "name": "stdout",
     "output_type": "stream",
     "text": [
      "Güncellenmiş Liste: ['D', 'A', 'T', 'A', 'S', 'C', 'I', 'E', 'C', 'E', 'J']\n"
     ]
    }
   ],
   "source": [
    "lst.append(\"J\")\n",
    "print(\"Güncellenmiş Liste:\", lst)"
   ]
  },
  {
   "cell_type": "markdown",
   "id": "0d3e6fa1",
   "metadata": {},
   "source": [
    "Adım 6: Sekizinci indekse \"N\" elemanını tekrar ekleyiniz.\n"
   ]
  },
  {
   "cell_type": "code",
   "execution_count": 10,
   "id": "0ce95aa7",
   "metadata": {},
   "outputs": [
    {
     "name": "stdout",
     "output_type": "stream",
     "text": [
      "Güncellenmiş Liste: ['D', 'A', 'T', 'A', 'S', 'C', 'I', 'E', 'N', 'C', 'E', 'J']\n"
     ]
    }
   ],
   "source": [
    "lst.insert(8, \"N\")\n",
    "print(\"Güncellenmiş Liste:\", lst)"
   ]
  },
  {
   "cell_type": "markdown",
   "id": "f9876b46",
   "metadata": {},
   "source": [
    "."
   ]
  },
  {
   "cell_type": "markdown",
   "id": "99a09412",
   "metadata": {},
   "source": [
    "Görev 4: Verilen sözlük yapısına aşağıdaki adımları uygulayınız."
   ]
  },
  {
   "cell_type": "code",
   "execution_count": 11,
   "id": "638aea78",
   "metadata": {},
   "outputs": [],
   "source": [
    "dict = {'Christian': [\"America\", 18],\n",
    "        'Daisy': [\"England\", 12],\n",
    "        'Antonio': [\"Spain\", 22],\n",
    "        'Dante': [\"Italy\", 25]}"
   ]
  },
  {
   "cell_type": "markdown",
   "id": "2662b571",
   "metadata": {},
   "source": [
    "Adım 1: Key değerlerine erişiniz.\n",
    "    \n",
    "Adım 2: Value'lara erişiniz.\n",
    "    \n",
    "Adım 3: Daisy key'ine ait 12 değerini 13 olarak güncelleyiniz.\n",
    "    \n",
    "Adım 4: Key değeri Ahmet value değeri [Turkey,24] olan yeni bir değer ekleyiniz.\n",
    "    \n",
    "Adım 5: Antonio'yu dictionary'den siliniz.\n"
   ]
  },
  {
   "cell_type": "markdown",
   "id": "1b0bf296",
   "metadata": {},
   "source": [
    "Adım 1: Key değerlerine erişiniz."
   ]
  },
  {
   "cell_type": "code",
   "execution_count": 12,
   "id": "e7e2ad9d",
   "metadata": {},
   "outputs": [
    {
     "name": "stdout",
     "output_type": "stream",
     "text": [
      "Key Değerleri: dict_keys(['Christian', 'Daisy', 'Antonio', 'Dante'])\n"
     ]
    }
   ],
   "source": [
    "print(\"Key Değerleri:\", dict.keys())"
   ]
  },
  {
   "cell_type": "markdown",
   "id": "0e387ca1",
   "metadata": {},
   "source": [
    "Adım 2: Value'lara erişiniz."
   ]
  },
  {
   "cell_type": "code",
   "execution_count": 13,
   "id": "2c2f81f5",
   "metadata": {},
   "outputs": [
    {
     "name": "stdout",
     "output_type": "stream",
     "text": [
      "Key Değerleri: dict_values([['America', 18], ['England', 12], ['Spain', 22], ['Italy', 25]])\n"
     ]
    }
   ],
   "source": [
    "print(\"Key Değerleri:\", dict.values())"
   ]
  },
  {
   "cell_type": "markdown",
   "id": "9a918b70",
   "metadata": {},
   "source": [
    "Adım 3: Daisy key'ine ait 12 değerini 13 olarak güncelleyiniz."
   ]
  },
  {
   "cell_type": "code",
   "execution_count": 14,
   "id": "06d891ff",
   "metadata": {},
   "outputs": [
    {
     "name": "stdout",
     "output_type": "stream",
     "text": [
      "Güncellenmiş Sözlük: {'Christian': ['America', 18], 'Daisy': ['England', 13], 'Antonio': ['Spain', 22], 'Dante': ['Italy', 25]}\n"
     ]
    }
   ],
   "source": [
    "dict.update({'Daisy': [\"England\", 13]})\n",
    "print(\"Güncellenmiş Sözlük:\", dict)"
   ]
  },
  {
   "cell_type": "markdown",
   "id": "e109db96",
   "metadata": {},
   "source": [
    "Adım 4: Key değeri Ahmet value değeri [Turkey,24] olan yeni bir değer ekleyiniz."
   ]
  },
  {
   "cell_type": "code",
   "execution_count": 15,
   "id": "dc9f8336",
   "metadata": {},
   "outputs": [
    {
     "name": "stdout",
     "output_type": "stream",
     "text": [
      "Güncellenmiş Sözlük: {'Christian': ['America', 18], 'Daisy': ['England', 13], 'Antonio': ['Spain', 22], 'Dante': ['Italy', 25], 'Ahmet': ['Turkey', 24]}\n"
     ]
    }
   ],
   "source": [
    "dict.update({'Ahmet': [\"Turkey\", 24]})\n",
    "print(\"Güncellenmiş Sözlük:\", dict)"
   ]
  },
  {
   "cell_type": "markdown",
   "id": "cd050af2",
   "metadata": {},
   "source": [
    "Adım 5: Antonio'yu dictionary'den siliniz"
   ]
  },
  {
   "cell_type": "code",
   "execution_count": 16,
   "id": "320a47d7",
   "metadata": {},
   "outputs": [
    {
     "name": "stdout",
     "output_type": "stream",
     "text": [
      "{'Christian': ['America', 18], 'Daisy': ['England', 13], 'Dante': ['Italy', 25], 'Ahmet': ['Turkey', 24]}\n"
     ]
    }
   ],
   "source": [
    "dict.pop('Antonio')\n",
    "print(dict)"
   ]
  },
  {
   "cell_type": "markdown",
   "id": "8ad4da59",
   "metadata": {},
   "source": [
    "."
   ]
  },
  {
   "cell_type": "markdown",
   "id": "25c860d6",
   "metadata": {},
   "source": [
    "Görev 5: Argüman olarak bir liste alan, listenin içerisindeki tek ve çift sayıları ayrı listelere atayan ve bu listeleri\n",
    "return eden fonksiyon yazınız."
   ]
  },
  {
   "cell_type": "code",
   "execution_count": 17,
   "id": "246104b0",
   "metadata": {},
   "outputs": [
    {
     "data": {
      "text/plain": [
       "([13, 93], [2, 18, 22])"
      ]
     },
     "execution_count": 17,
     "metadata": {},
     "output_type": "execute_result"
    }
   ],
   "source": [
    "l = [2,13,18,93,22]\n",
    "def separate_numbers(numbers_list):\n",
    "    odd_numbers = []\n",
    "    even_numbers = []\n",
    "    \n",
    "    for num in numbers_list:\n",
    "        if num % 2 == 0:\n",
    "            even_numbers.append(num)\n",
    "        else:\n",
    "            odd_numbers.append(num)\n",
    "    \n",
    "    return odd_numbers, even_numbers\n",
    "separate_numbers(l)"
   ]
  },
  {
   "cell_type": "markdown",
   "id": "12fb9366",
   "metadata": {},
   "source": [
    "."
   ]
  },
  {
   "cell_type": "markdown",
   "id": "1be5a89f",
   "metadata": {},
   "source": [
    "Görev 6: Aşağıda verilen listede mühendislik ve tıp fakülterinde dereceye giren öğrencilerin isimleri\n",
    "bulunmaktadır. Sırasıyla ilk üç öğrenci mühendislik fakültesinin başarı sırasını temsil ederken son üç öğrenci de \n",
    "tıp fakültesi öğrenci sırasına aittir. Enumarate kullanarak öğrenci derecelerini fakülte özelinde yazdırınız."
   ]
  },
  {
   "cell_type": "code",
   "execution_count": 18,
   "id": "994caa22",
   "metadata": {},
   "outputs": [
    {
     "name": "stdout",
     "output_type": "stream",
     "text": [
      "Mühendislik Fakültesi 1 . öğrenci: Ali\n",
      "Mühendislik Fakültesi 2 . öğrenci: Veli\n",
      "Mühendislik Fakültesi 3 . öğrenci: Ayşe\n",
      "Tıp Fakültesi 1 . öğrenci: Talat\n",
      "Tıp Fakültesi 2 . öğrenci: Zeynep\n",
      "Tıp Fakültesi 3 . öğrenci: Ece\n"
     ]
    }
   ],
   "source": [
    "ogrenciler = [\"Ali\", \"Veli\", \"Ayşe\", \"Talat\", \"Zeynep\", \"Ece\"]\n",
    "\n",
    "for i, ogrenci in enumerate(ogrenciler):\n",
    "    if i < 3:\n",
    "        print(\"Mühendislik Fakültesi\", i + 1, \". öğrenci:\", ogrenci)\n",
    "    else:\n",
    "        print(\"Tıp Fakültesi\", i - 2, \". öğrenci:\", ogrenci)"
   ]
  },
  {
   "cell_type": "markdown",
   "id": "eada11e4",
   "metadata": {},
   "source": [
    "."
   ]
  },
  {
   "cell_type": "markdown",
   "id": "7d89b485",
   "metadata": {},
   "source": [
    "Görev 7: Aşağıda 3 adet liste verilmiştir. Listelerde sırası ile bir dersin kodu, kredisi ve kontenjan bilgileri yer\n",
    "almaktadır. Zip kullanarak ders bilgilerini bastırınız"
   ]
  },
  {
   "cell_type": "code",
   "execution_count": 19,
   "id": "d018749b",
   "metadata": {},
   "outputs": [
    {
     "name": "stdout",
     "output_type": "stream",
     "text": [
      "Kredisi 3 olan CMP1005 kodlu dersin kontenjanı 30 kişidir.\n",
      "Kredisi 4 olan PSY1001 kodlu dersin kontenjanı 75 kişidir.\n",
      "Kredisi 2 olan HUK1005 kodlu dersin kontenjanı 150 kişidir.\n",
      "Kredisi 4 olan SEN2204 kodlu dersin kontenjanı 25 kişidir.\n"
     ]
    }
   ],
   "source": [
    "ders_kodu = [\"CMP1005\", \"PSY1001\", \"HUK1005\", \"SEN2204\"]\n",
    "kredi = [3, 4, 2, 4]\n",
    "kontenjan = [30, 75, 150, 25]\n",
    "\n",
    "for ders_kodu, kredi, kontenjan in zip(ders_kodu, kredi, kontenjan):\n",
    "    print(f\"Kredisi {kredi} olan {ders_kodu} kodlu dersin kontenjanı {kontenjan} kişidir.\")"
   ]
  },
  {
   "cell_type": "markdown",
   "id": "3fadf61e",
   "metadata": {},
   "source": [
    "."
   ]
  },
  {
   "cell_type": "markdown",
   "id": "ec1e9348",
   "metadata": {},
   "source": [
    "Görev 8: Aşağıda 2 adet set verilmiştir. Sizden istenilen eğer 1. küme 2. kümeyi kapsiyor ise ortak elemanlarını\n",
    "eğer kapsamıyor ise 2. kümenin 1. kümeden farkını yazdıracak fonksiyonu tanımlamanız beklenmektedir."
   ]
  },
  {
   "cell_type": "code",
   "execution_count": 20,
   "id": "e79ffacb",
   "metadata": {},
   "outputs": [
    {
     "name": "stdout",
     "output_type": "stream",
     "text": [
      "{'miuul', 'lambda', 'function', 'qcut'}\n"
     ]
    }
   ],
   "source": [
    "kume1 = set([\"data\", \"python\"])\n",
    "kume2 = set([\"data\", \"function\", \"qcut\", \"lambda\", \"python\", \"miuul\"])\n",
    "\n",
    "def kume(set1,set2):\n",
    "    if set1.issuperset(set2):\n",
    "        print(set1.intersection(set2))\n",
    "    else:\n",
    "        print(set2.difference(set1))\n",
    "\n",
    "kume(kume1, kume2)"
   ]
  },
  {
   "cell_type": "code",
   "execution_count": null,
   "id": "2db90557",
   "metadata": {},
   "outputs": [],
   "source": []
  }
 ],
 "metadata": {
  "kernelspec": {
   "display_name": "Python 3 (ipykernel)",
   "language": "python",
   "name": "python3"
  },
  "language_info": {
   "codemirror_mode": {
    "name": "ipython",
    "version": 3
   },
   "file_extension": ".py",
   "mimetype": "text/x-python",
   "name": "python",
   "nbconvert_exporter": "python",
   "pygments_lexer": "ipython3",
   "version": "3.9.12"
  }
 },
 "nbformat": 4,
 "nbformat_minor": 5
}
